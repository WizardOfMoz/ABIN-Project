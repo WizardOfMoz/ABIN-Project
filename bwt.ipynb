{
 "cells": [
  {
   "cell_type": "code",
   "execution_count": 229,
   "metadata": {},
   "outputs": [],
   "source": [
    "import pandas as pd \n",
    "import numpy as np\n",
    "import random\n",
    "from Bio import pairwise2\n",
    "from Bio.Seq import Seq "
   ]
  },
  {
   "cell_type": "code",
   "execution_count": 230,
   "metadata": {},
   "outputs": [],
   "source": [
    "\n",
    "# for efficient exact matching\n",
    "def bwt(p):\n",
    "    \"\"\"Burrows-Wheeler transform of a string\"\"\"\n",
    "    if len(p)==0:\n",
    "        return None\n",
    "    s='$'+p\n",
    "    rotations = list(enumerate([s[i:] + s[:i] for i in range(len(s))]))\n",
    "    rotations.sort(key=lambda x: x[-1])\n",
    "    df = pd.DataFrame([[rot[0],rot[1][0],rot[1][-1]] for rot in rotations])\n",
    "    df.columns = ['index','L','R']\n",
    "\n",
    "    \n",
    "    letters = sorted(list(df['R'].unique()))\n",
    "    rank = pd.DataFrame()\n",
    "    for let in letters:\n",
    "        rank[let] = (df['R']==let).cumsum() - (df['R']==let)\n",
    "    \n",
    "    rank.loc[len(s)]=df['R'].value_counts().sort_index()\n",
    "\n",
    "    rng = pd.DataFrame([],index=letters)\n",
    "    d = df['L'].value_counts().sort_index()\n",
    "    rng['start']=d.cumsum() - d\n",
    "    rng['end']=d.cumsum()\n",
    "    \n",
    "    return df ,rank,rng\n",
    "\n"
   ]
  },
  {
   "cell_type": "code",
   "execution_count": 231,
   "metadata": {},
   "outputs": [],
   "source": [
    "\n",
    "# Uses BWT to get the exact matching regions in the 2 sequences\n",
    "def get_lmem(q,df,rank,rng):\n",
    "    \"\"\"Burrows-Wheeler search of a string\"\"\"\n",
    "    n =len(q)\n",
    "    st,end = rng.loc[q[-1]]\n",
    "    j2 = n-1\n",
    "    lmem_list=[]\n",
    "    l_=5\n",
    "    for j in range(n-2,-1,-1):\n",
    "        q_ = q[j]\n",
    "        #print(q_)\n",
    "        st_ = rank.loc[st,q_]\n",
    "        end_ = rank.loc[end,q_]\n",
    "        \n",
    "        if(st_==end_):\n",
    "            #print('No match')\n",
    "            j1 = j+1 \n",
    "            l = j2-j1\n",
    "            if(l>=l_-1):\n",
    "                i1=df.iloc[st:end]['index'].values[0]-1\n",
    "                #print(i1)\n",
    "                i2 = i1 + l\n",
    "                lmem_list.append((i1,i2+1,j1,j2+1,i1-j1))\n",
    "            j2 = j\n",
    "            st = rng.loc[q_,'start']\n",
    "            end = rng.loc[q_,'end']\n",
    "\n",
    "        elif j == 0:\n",
    "            #print('Match 0')\n",
    "            st = rng.loc[q_,'start'] + st_\n",
    "            end = rng.loc[q_,'start'] + end_     \n",
    "            j1 = j\n",
    "            l = j2-j1\n",
    "            if(l>=l_-1):\n",
    "                i1=df.iloc[st:end]['index'].values[0]-1\n",
    "                #print(i1)\n",
    "                i2 = i1 + l\n",
    "                lmem_list.append((i1,i2+1,j1,j2+1,i1-j1))\n",
    "\n",
    "        else:\n",
    "            st = rng.loc[q_,'start'] + st_\n",
    "            end = rng.loc[q_,'start'] + end_\n",
    "        \n",
    "    return lmem_list\n",
    "        "
   ]
  },
  {
   "cell_type": "code",
   "execution_count": 232,
   "metadata": {},
   "outputs": [],
   "source": [
    "\n",
    "def get_colinear_sets(lmem_list):\n",
    "    \"\"\"Get colinear sets from lmem_list\"\"\"\n",
    "    lmem_list.sort(key=lambda x: x[-1])\n",
    "    thresh = 5 # for easier visualization 30\n",
    "    colinear_sets = []\n",
    "    l= [lmem_list[0]]\n",
    "    for i in range(1,len(lmem_list)):\n",
    "        if abs(lmem_list[i][-1]-lmem_list[i-1][-1])<=thresh:\n",
    "            l.append(lmem_list[i])\n",
    "        else:\n",
    "            if(len(l)>1):\n",
    "                colinear_sets.append(l)\n",
    "            l = [lmem_list[i]]\n",
    "    if len(l)>1:\n",
    "        colinear_sets.append(l)\n",
    "    return colinear_sets"
   ]
  },
  {
   "cell_type": "code",
   "execution_count": 233,
   "metadata": {},
   "outputs": [],
   "source": [
    "\n",
    "\n",
    "def remove_overlap(col_set):\n",
    "    for i in range(len(col_set)-1):\n",
    "        lmem1 = col_set[i]\n",
    "        lmem2 = col_set[i+1]\n",
    "        l1 = lmem1[1]-lmem1[0]\n",
    "        l2 = lmem2[1]-lmem2[0]\n",
    "        if lmem1[1]>lmem2[0]:\n",
    "            print(\"Bazinga\")\n",
    "            if l1>l2:\n",
    "                col_set[i+1] = [lmem1[1],lmem2[1],lmem2[2],lmem2[2]+lmem2[1]-lmem1[1],lmem2[2]-lmem1[1]]\n",
    "            else:\n",
    "                col_set[i] = [lmem1[0],lmem2[0],lmem1[2],lmem1[2]+lmem2[0]-lmem1[0],lmem1[4]]\n",
    "    return col_set\n"
   ]
  },
  {
   "cell_type": "code",
   "execution_count": 234,
   "metadata": {},
   "outputs": [],
   "source": [
    "def non_outlier(col_set):\n",
    "    col_set.sort(key=lambda x: x[2])\n",
    "    thresh = 2  # for easier visualization 10\n",
    "    n=len(col_set)\n",
    "    dp = np.ones(n)\n",
    "    for i in range(1,n):\n",
    "        for j in range(i-1,-1,-1):\n",
    "            if abs(col_set[i][-1]-col_set[j][-1])<=thresh:\n",
    "                dp[i] = max(dp[i],dp[j]+1)\n",
    "    i = dp.argmax()\n",
    "    non_outlier_set = [col_set[i]]\n",
    "    for j in range(i-1,-1,-1):\n",
    "        if (abs(col_set[i][-1]-col_set[j][-1])<=thresh) and (dp[j]==dp[i]-1):\n",
    "            non_outlier_set.append(col_set[j])\n",
    "            i=j\n",
    "    non_outlier_set.reverse()\n",
    "    return non_outlier_set\n"
   ]
  },
  {
   "cell_type": "code",
   "execution_count": 235,
   "metadata": {},
   "outputs": [],
   "source": [
    "\n",
    "def preprocess_colinear_sets(colinear_sets): \n",
    "    \"\"\"Preprocess colinear sets\"\"\"\n",
    "    for i in range(len(colinear_sets)):\n",
    "        col_set = colinear_sets[i]\n",
    "        col_set.sort(key=lambda x: x[2])\n",
    "        col_set = non_outlier(col_set) #Remover outliers\n",
    "        col_set = remove_overlap(col_set) #Remove overlap\n",
    "        colinear_sets[i] = col_set\n",
    "    return colinear_sets\n",
    "\n",
    "        "
   ]
  },
  {
   "cell_type": "code",
   "execution_count": 236,
   "metadata": {},
   "outputs": [],
   "source": [
    "#Write helper functions for gap filling and alignment here"
   ]
  },
  {
   "cell_type": "code",
   "execution_count": 237,
   "metadata": {},
   "outputs": [],
   "source": [
    "# p = ''.join([random.choice('ACGT') for i in range(500)]) #for easier visualization 100000\n",
    "# q = ''.join([random.choice('ACGT') for i in range(500)])\n",
    "\n",
    "p='AAATTGGCC'\n",
    "q='AAACCGGCC'\n"
   ]
  },
  {
   "cell_type": "code",
   "execution_count": 238,
   "metadata": {},
   "outputs": [
    {
     "name": "stdout",
     "output_type": "stream",
     "text": [
      "AAATTGGCC\n",
      "AAACCGGCC\n"
     ]
    }
   ],
   "source": [
    "print(p)\n",
    "print(q)"
   ]
  },
  {
   "cell_type": "code",
   "execution_count": 239,
   "metadata": {},
   "outputs": [
    {
     "data": {
      "text/html": [
       "<div>\n",
       "<style scoped>\n",
       "    .dataframe tbody tr th:only-of-type {\n",
       "        vertical-align: middle;\n",
       "    }\n",
       "\n",
       "    .dataframe tbody tr th {\n",
       "        vertical-align: top;\n",
       "    }\n",
       "\n",
       "    .dataframe thead th {\n",
       "        text-align: right;\n",
       "    }\n",
       "</style>\n",
       "<table border=\"1\" class=\"dataframe\">\n",
       "  <thead>\n",
       "    <tr style=\"text-align: right;\">\n",
       "      <th></th>\n",
       "      <th>index</th>\n",
       "      <th>L</th>\n",
       "      <th>R</th>\n",
       "    </tr>\n",
       "  </thead>\n",
       "  <tbody>\n",
       "    <tr>\n",
       "      <th>0</th>\n",
       "      <td>0</td>\n",
       "      <td>$</td>\n",
       "      <td>C</td>\n",
       "    </tr>\n",
       "    <tr>\n",
       "      <th>1</th>\n",
       "      <td>1</td>\n",
       "      <td>A</td>\n",
       "      <td>$</td>\n",
       "    </tr>\n",
       "    <tr>\n",
       "      <th>2</th>\n",
       "      <td>2</td>\n",
       "      <td>A</td>\n",
       "      <td>A</td>\n",
       "    </tr>\n",
       "    <tr>\n",
       "      <th>3</th>\n",
       "      <td>3</td>\n",
       "      <td>A</td>\n",
       "      <td>A</td>\n",
       "    </tr>\n",
       "    <tr>\n",
       "      <th>4</th>\n",
       "      <td>9</td>\n",
       "      <td>C</td>\n",
       "      <td>C</td>\n",
       "    </tr>\n",
       "    <tr>\n",
       "      <th>5</th>\n",
       "      <td>8</td>\n",
       "      <td>C</td>\n",
       "      <td>G</td>\n",
       "    </tr>\n",
       "    <tr>\n",
       "      <th>6</th>\n",
       "      <td>7</td>\n",
       "      <td>G</td>\n",
       "      <td>G</td>\n",
       "    </tr>\n",
       "    <tr>\n",
       "      <th>7</th>\n",
       "      <td>6</td>\n",
       "      <td>G</td>\n",
       "      <td>T</td>\n",
       "    </tr>\n",
       "    <tr>\n",
       "      <th>8</th>\n",
       "      <td>5</td>\n",
       "      <td>T</td>\n",
       "      <td>T</td>\n",
       "    </tr>\n",
       "    <tr>\n",
       "      <th>9</th>\n",
       "      <td>4</td>\n",
       "      <td>T</td>\n",
       "      <td>A</td>\n",
       "    </tr>\n",
       "  </tbody>\n",
       "</table>\n",
       "</div>"
      ],
      "text/plain": [
       "   index  L  R\n",
       "0      0  $  C\n",
       "1      1  A  $\n",
       "2      2  A  A\n",
       "3      3  A  A\n",
       "4      9  C  C\n",
       "5      8  C  G\n",
       "6      7  G  G\n",
       "7      6  G  T\n",
       "8      5  T  T\n",
       "9      4  T  A"
      ]
     },
     "execution_count": 239,
     "metadata": {},
     "output_type": "execute_result"
    }
   ],
   "source": [
    "df,rank,rng = bwt(p)\n",
    "df"
   ]
  },
  {
   "cell_type": "code",
   "execution_count": 240,
   "metadata": {},
   "outputs": [
    {
     "data": {
      "text/html": [
       "<div>\n",
       "<style scoped>\n",
       "    .dataframe tbody tr th:only-of-type {\n",
       "        vertical-align: middle;\n",
       "    }\n",
       "\n",
       "    .dataframe tbody tr th {\n",
       "        vertical-align: top;\n",
       "    }\n",
       "\n",
       "    .dataframe thead th {\n",
       "        text-align: right;\n",
       "    }\n",
       "</style>\n",
       "<table border=\"1\" class=\"dataframe\">\n",
       "  <thead>\n",
       "    <tr style=\"text-align: right;\">\n",
       "      <th></th>\n",
       "      <th>i1</th>\n",
       "      <th>i2</th>\n",
       "      <th>j1</th>\n",
       "      <th>j2</th>\n",
       "      <th>offset</th>\n",
       "    </tr>\n",
       "  </thead>\n",
       "  <tbody>\n",
       "  </tbody>\n",
       "</table>\n",
       "</div>"
      ],
      "text/plain": [
       "Empty DataFrame\n",
       "Columns: [i1, i2, j1, j2, offset]\n",
       "Index: []"
      ]
     },
     "execution_count": 240,
     "metadata": {},
     "output_type": "execute_result"
    }
   ],
   "source": [
    "lmem_set = get_lmem(q,df,rank,rng)\n",
    "pd.DataFrame(lmem_set,columns=['i1','i2','j1','j2','offset'])"
   ]
  },
  {
   "cell_type": "code",
   "execution_count": 241,
   "metadata": {},
   "outputs": [
    {
     "ename": "IndexError",
     "evalue": "list index out of range",
     "output_type": "error",
     "traceback": [
      "\u001b[1;31m---------------------------------------------------------------------------\u001b[0m",
      "\u001b[1;31mIndexError\u001b[0m                                Traceback (most recent call last)",
      "\u001b[1;32mc:\\Users\\anany\\Desktop\\ABIN-Project\\bwt.ipynb Cell 13\u001b[0m in \u001b[0;36m<cell line: 1>\u001b[1;34m()\u001b[0m\n\u001b[1;32m----> <a href='vscode-notebook-cell:/c%3A/Users/anany/Desktop/ABIN-Project/bwt.ipynb#X22sZmlsZQ%3D%3D?line=0'>1</a>\u001b[0m colinear_sets \u001b[39m=\u001b[39m get_colinear_sets(lmem_set)\n\u001b[0;32m      <a href='vscode-notebook-cell:/c%3A/Users/anany/Desktop/ABIN-Project/bwt.ipynb#X22sZmlsZQ%3D%3D?line=1'>2</a>\u001b[0m colinear_sets\n",
      "\u001b[1;32mc:\\Users\\anany\\Desktop\\ABIN-Project\\bwt.ipynb Cell 13\u001b[0m in \u001b[0;36mget_colinear_sets\u001b[1;34m(lmem_list)\u001b[0m\n\u001b[0;32m      <a href='vscode-notebook-cell:/c%3A/Users/anany/Desktop/ABIN-Project/bwt.ipynb#X22sZmlsZQ%3D%3D?line=3'>4</a>\u001b[0m thresh \u001b[39m=\u001b[39m \u001b[39m5\u001b[39m \u001b[39m# for easier visualization 30\u001b[39;00m\n\u001b[0;32m      <a href='vscode-notebook-cell:/c%3A/Users/anany/Desktop/ABIN-Project/bwt.ipynb#X22sZmlsZQ%3D%3D?line=4'>5</a>\u001b[0m colinear_sets \u001b[39m=\u001b[39m []\n\u001b[1;32m----> <a href='vscode-notebook-cell:/c%3A/Users/anany/Desktop/ABIN-Project/bwt.ipynb#X22sZmlsZQ%3D%3D?line=5'>6</a>\u001b[0m l\u001b[39m=\u001b[39m [lmem_list[\u001b[39m0\u001b[39;49m]]\n\u001b[0;32m      <a href='vscode-notebook-cell:/c%3A/Users/anany/Desktop/ABIN-Project/bwt.ipynb#X22sZmlsZQ%3D%3D?line=6'>7</a>\u001b[0m \u001b[39mfor\u001b[39;00m i \u001b[39min\u001b[39;00m \u001b[39mrange\u001b[39m(\u001b[39m1\u001b[39m,\u001b[39mlen\u001b[39m(lmem_list)):\n\u001b[0;32m      <a href='vscode-notebook-cell:/c%3A/Users/anany/Desktop/ABIN-Project/bwt.ipynb#X22sZmlsZQ%3D%3D?line=7'>8</a>\u001b[0m     \u001b[39mif\u001b[39;00m \u001b[39mabs\u001b[39m(lmem_list[i][\u001b[39m-\u001b[39m\u001b[39m1\u001b[39m]\u001b[39m-\u001b[39mlmem_list[i\u001b[39m-\u001b[39m\u001b[39m1\u001b[39m][\u001b[39m-\u001b[39m\u001b[39m1\u001b[39m])\u001b[39m<\u001b[39m\u001b[39m=\u001b[39mthresh:\n",
      "\u001b[1;31mIndexError\u001b[0m: list index out of range"
     ]
    }
   ],
   "source": [
    "colinear_sets = get_colinear_sets(lmem_set)\n",
    "colinear_sets"
   ]
  },
  {
   "cell_type": "code",
   "execution_count": null,
   "metadata": {},
   "outputs": [
    {
     "data": {
      "text/plain": [
       "[]"
      ]
     },
     "execution_count": 219,
     "metadata": {},
     "output_type": "execute_result"
    }
   ],
   "source": [
    "colinear_sets = preprocess_colinear_sets(colinear_sets)\n",
    "colinear_sets"
   ]
  },
  {
   "cell_type": "raw",
   "metadata": {},
   "source": [
    "introducing normal sets\n",
    "idenifying normal set types\n",
    "alignment within normal sets\n",
    "total alignment"
   ]
  },
  {
   "cell_type": "code",
   "execution_count": null,
   "metadata": {},
   "outputs": [],
   "source": [
    "#touple as in (i1,i2,j1,j2)\n",
    "normal_set=[]\n",
    "for similar_set in colinear_sets:\n",
    "    sets=[]\n",
    "    for i in range(len(similar_set)-1):\n",
    "        exact_region1=similar_set[i]\n",
    "        exact_region2=similar_set[i+1]\n",
    "        gap_region=(exact_region1[1],exact_region2[0],exact_region1[3],exact_region2[2])\n",
    "        sets.append(gap_region)\n",
    "    normal_set.append(sets)"
   ]
  },
  {
   "cell_type": "code",
   "execution_count": null,
   "metadata": {},
   "outputs": [
    {
     "data": {
      "text/plain": [
       "[]"
      ]
     },
     "execution_count": 221,
     "metadata": {},
     "output_type": "execute_result"
    }
   ],
   "source": [
    "normal_set"
   ]
  },
  {
   "cell_type": "code",
   "execution_count": null,
   "metadata": {},
   "outputs": [],
   "source": [
    "similar_regions={}\n",
    "normal_regions={}\n"
   ]
  },
  {
   "cell_type": "code",
   "execution_count": null,
   "metadata": {},
   "outputs": [],
   "source": [
    "for sim_r in colinear_sets:\n",
    "    for touple in sim_r:\n",
    "        similar_regions[touple[0]]=touple"
   ]
  },
  {
   "cell_type": "code",
   "execution_count": null,
   "metadata": {},
   "outputs": [],
   "source": [
    "for gap_r in normal_set:\n",
    "    for touple in gap_r:\n",
    "        normal_regions[touple[0]]=touple"
   ]
  },
  {
   "cell_type": "code",
   "execution_count": null,
   "metadata": {},
   "outputs": [],
   "source": [
    "final_p=\"\"\n",
    "final_q=\"\"\n",
    "alignment=\"\""
   ]
  },
  {
   "cell_type": "code",
   "execution_count": null,
   "metadata": {},
   "outputs": [],
   "source": [
    "position = 0\n",
    "while position<len(p):\n",
    "    if position in similar_regions:\n",
    "        touple=similar_regions[position]\n",
    "        final_p+=p[touple[0]:touple[1]]\n",
    "        final_q+=q[touple[2]:touple[3]]\n",
    "        alignment+=\"|\"*(touple[1]-touple[0])\n",
    "        position=touple[1]\n",
    "    elif position in normal_regions:\n",
    "        touple=normal_regions[position]\n",
    "        tempp=p[touple[0]:touple[1]]\n",
    "        tempq=q[touple[2]:touple[3]]\n",
    "        seq1 = Seq(tempp) \n",
    "        seq2 = Seq(tempq)\n",
    "        alignments = pairwise2.align.globalxx(seq1, seq2)\n",
    "        onealignment=alignments[0]  # taking only 1 max score alignment since otherwise there could be many possiblities\n",
    "        alignment_p=onealignment[0]\n",
    "        alignment_q=onealignment[1]\n",
    "        all=\"\"\n",
    "        for i in range(len(alignment_p)): \n",
    "            if alignment_p[i]==alignment_q[i]:\n",
    "                all+=\"|\" \n",
    "            else:\n",
    "                all+=\" \"\n",
    "        alignment+=all\n",
    "        final_p+=alignment_p\n",
    "        final_q+=alignment_q\n",
    "        position=touple[1]\n",
    "    else:\n",
    "        final_p+=p[position]\n",
    "        final_q+=q[position]\n",
    "        position+=1\n",
    "        alignment+=\" \""
   ]
  },
  {
   "cell_type": "code",
   "execution_count": null,
   "metadata": {},
   "outputs": [
    {
     "name": "stdout",
     "output_type": "stream",
     "text": [
      "AAATTGGCC\n",
      "         \n",
      "CTTTTATTG\n"
     ]
    }
   ],
   "source": [
    "print(final_p[:200])\n",
    "print(alignment[:200])\n",
    "print(final_q[:200])"
   ]
  }
 ],
 "metadata": {
  "kernelspec": {
   "display_name": "Python 3.10.8 64-bit (microsoft store)",
   "language": "python",
   "name": "python3"
  },
  "language_info": {
   "codemirror_mode": {
    "name": "ipython",
    "version": 3
   },
   "file_extension": ".py",
   "mimetype": "text/x-python",
   "name": "python",
   "nbconvert_exporter": "python",
   "pygments_lexer": "ipython3",
   "version": "3.10.8"
  },
  "orig_nbformat": 4,
  "vscode": {
   "interpreter": {
    "hash": "1d1e73f74c8ec7a1671e8a50a2cf4a7de1dd968f28e814f9d8c3d6c3acdbc158"
   }
  }
 },
 "nbformat": 4,
 "nbformat_minor": 2
}
